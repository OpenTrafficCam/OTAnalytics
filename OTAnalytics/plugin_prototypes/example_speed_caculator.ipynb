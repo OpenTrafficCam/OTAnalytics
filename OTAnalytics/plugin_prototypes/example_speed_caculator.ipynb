{
 "cells": [
  {
   "attachments": {},
   "cell_type": "markdown",
   "metadata": {},
   "source": [
    "# Use the speed calculator prototype with OTAnalytics\n",
    "\n",
    "> Note: The base path is set in `.vscode/settings.json` to workspace path. Otherwise Jupyter can't import OTAnalytics."
   ]
  },
  {
   "attachments": {},
   "cell_type": "markdown",
   "metadata": {},
   "source": [
    "## Import the prototype modules\n",
    "\n",
    "Before working with events, you need to import the event_processor to import and convert the events to a shaped data frame."
   ]
  },
  {
   "cell_type": "code",
   "execution_count": 1,
   "metadata": {},
   "outputs": [],
   "source": [
    "# Import libraries and modules\n",
    "# OTAnalytics modules\n",
    "from OTAnalytics.plugin_prototypes.event_parser.event_parser import EventParser\n",
    "from OTAnalytics.plugin_prototypes.speed_calculator.speed_calculator import (\n",
    "    SpeedCalculator,\n",
    ")\n",
    "\n",
    "%load_ext autoreload\n",
    "%autoreload 2"
   ]
  },
  {
   "cell_type": "markdown",
   "metadata": {},
   "source": [
    "## Set config variables\n",
    "\n",
    "In the current version, confiogs for prototypes are stored in dictionries within the Jupyter notebook. In a future version, the will likely be stored in a config file.\n",
    "\n",
    "The path to the eventlists can be a path to a single event list or a folder (all otevent files within this folder will be imported).\n",
    "\n",
    "At each section, the counts will be calculated by direction using the flows. Therefore, you have to name the directions (default: \"in\" and \"out\"). \"first_to_last_section\" names the direction in which the given section is intersected first by the flow. \"last_to_first_section\" names the direction in which the given section is intersected last."
   ]
  },
  {
   "cell_type": "code",
   "execution_count": null,
   "metadata": {},
   "outputs": [],
   "source": [
    "# Set env parameters and path\n",
    "CONFIG = {\n",
    "    \"TIME_FORMAT\": \"%d.%m%.%y %H:%M Uhr\",\n",
    "    \"FILTER_CLASS\": [],\n",
    "    \"FILTER_SECTION\": [],\n",
    "    \"EVENTLIST_PATH\": \"<YOUR PATH>\",\n",
    "    \"SECTIONSLIST_PATH\": \"<YOUR PATH>\",\n",
    "    \"FROM_TIME\": \"2023-03-28 00:00:00\",\n",
    "    \"TO_TIME\": \"2023-03-29 00:00:00\",\n",
    "    \"INTERVAL_LENGTH_MIN\": 15,  # in minutes\n",
    "    \"DIRECTION_NAMES\": {\n",
    "        \"first_to_last_section\": \"in\",\n",
    "        \"last_to_first_section\": \"out\",\n",
    "    },\n",
    "}"
   ]
  },
  {
   "cell_type": "markdown",
   "metadata": {},
   "source": [
    "## Import Events"
   ]
  },
  {
   "cell_type": "code",
   "execution_count": null,
   "metadata": {},
   "outputs": [],
   "source": [
    "event_processor = EventParser(CONFIG)\n",
    "events = event_processor.process_events()"
   ]
  },
  {
   "attachments": {},
   "cell_type": "markdown",
   "metadata": {},
   "source": [
    "## Calculate Speeds"
   ]
  },
  {
   "cell_type": "code",
   "execution_count": null,
   "metadata": {},
   "outputs": [],
   "source": [
    "filter_sections = [\"B75_Ost\", \"B75_West\"]\n",
    "filter_directions = [\"in\", \"out\"]\n",
    "filter_classes = [\"car\", \"truck\"]\n",
    "\n",
    "speed_calculator = SpeedCalculator(\n",
    "    CONFIG, events, filter_sections, filter_directions, filter_classes\n",
    ")\n",
    "\n",
    "speed_table = speed_calculator.calculate_speeds()\n",
    "speed_calculator.plot_v_hist(row=\"road_user_type\", section_name=\"Test section\")\n",
    "speed_calculator.plot_q_v(section_name=\"Test section\")"
   ]
  }
 ],
 "metadata": {
  "kernelspec": {
   "display_name": "venv",
   "language": "python",
   "name": "python3"
  },
  "language_info": {
   "codemirror_mode": {
    "name": "ipython",
    "version": 3
   },
   "file_extension": ".py",
   "mimetype": "text/x-python",
   "name": "python",
   "nbconvert_exporter": "python",
   "pygments_lexer": "ipython3",
   "version": "3.10.10"
  },
  "orig_nbformat": 4
 },
 "nbformat": 4,
 "nbformat_minor": 2
}
