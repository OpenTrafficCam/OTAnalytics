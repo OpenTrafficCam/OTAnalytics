{
 "cells": [
  {
   "attachments": {},
   "cell_type": "markdown",
   "metadata": {},
   "source": [
    "# Use OTAnalytics in prototypes\n",
    "\n",
    "Add your new prototype in a new subdirectory of `./OTAnalytics/plugin_prototypes/` and create an empty `__init__.py`.\n",
    "Add an example Jupyter Notebook or python script to demonstrate usage (like this one is an example for `template` prototype). Or just copy `./template/` and `example_template.ipynb` and rename them. The example should always be named `example_{prototype_name}.py/ipynb`.\n",
    "\n",
    "> Note: The base path is set in `.vscode/settings.json` to workspace path. Otherwise Jupyter can't import OTAnalytics.\n",
    "\n",
    "## Use OTAnalytics in Jupyter\n",
    "\n",
    "If you need some OTAnalytics functionality in Jupyter, you can import the main OTAnalytics application:"
   ]
  },
  {
   "cell_type": "code",
   "execution_count": 1,
   "metadata": {},
   "outputs": [
    {
     "name": "stdout",
     "output_type": "stream",
     "text": [
      "Trying to construct track (track_id=TrackId(id=9)) with less than 5 detections.\n",
      "Trying to construct track (track_id=TrackId(id=10)) with less than 5 detections.\n",
      "Trying to construct track (track_id=TrackId(id=11)) with less than 5 detections.\n",
      "Trying to construct track (track_id=TrackId(id=12)) with less than 5 detections.\n",
      "Trying to construct track (track_id=TrackId(id=13)) with less than 5 detections.\n",
      "Trying to construct track (track_id=TrackId(id=14)) with less than 5 detections.\n",
      "Trying to construct track (track_id=TrackId(id=15)) with less than 5 detections.\n",
      "Trying to construct track (track_id=TrackId(id=16)) with less than 5 detections.\n",
      "Trying to construct track (track_id=TrackId(id=17)) with less than 5 detections.\n",
      "Trying to construct track (track_id=TrackId(id=19)) with less than 5 detections.\n",
      "Trying to construct track (track_id=TrackId(id=20)) with less than 5 detections.\n"
     ]
    }
   ],
   "source": [
    "from pathlib import Path\n",
    "from OTAnalytics.plugin_ui.main_application import ApplicationStarter\n",
    "\n",
    "otanalytics = ApplicationStarter().build_application()\n",
    "\n",
    "section_file = Path(\n",
    "    \"./tests/data/Testvideo_Cars-Cyclist_FR20_2020-01-01_00-00-00.otflow\"\n",
    ")\n",
    "track_file = Path(\"./tests/data/Testvideo_Cars-Cyclist_FR20_2020-01-01_00-00-00.ottrk\")\n",
    "event_file = Path(\"./test.otevents\")\n",
    "\n",
    "otanalytics.add_sections_of_file(sections_file=section_file)\n",
    "otanalytics.add_tracks_of_file(track_file=track_file)\n",
    "\n",
    "otanalytics.start_analysis()\n",
    "otanalytics.save_events(event_file)"
   ]
  },
  {
   "attachments": {},
   "cell_type": "markdown",
   "metadata": {},
   "source": [
    "You can now write your own parser to import the event file, use a OTAnalytics parser or directly use the datastore:"
   ]
  },
  {
   "cell_type": "code",
   "execution_count": 5,
   "metadata": {},
   "outputs": [],
   "source": [
    "test_events = otanalytics._datastore._event_repository.get_all()"
   ]
  },
  {
   "attachments": {},
   "cell_type": "markdown",
   "metadata": {},
   "source": [
    "## Use prototype classes and functions in Jupyter\n",
    "\n"
   ]
  },
  {
   "cell_type": "code",
   "execution_count": 2,
   "metadata": {},
   "outputs": [
    {
     "name": "stdout",
     "output_type": "stream",
     "text": [
      "Hello Prototype!\n"
     ]
    }
   ],
   "source": [
    "from OTAnalytics.plugin_prototypes.template.greetings import EnglishGreeter\n",
    "\n",
    "greeter = EnglishGreeter()\n",
    "greeter.say_hello()"
   ]
  },
  {
   "attachments": {},
   "cell_type": "markdown",
   "metadata": {},
   "source": [
    "## Use OTAnalytics functionality in prototype modules\n",
    "\n",
    "It's also possible to import OTAnaltics functionality inside a prototype module and use it here:"
   ]
  },
  {
   "cell_type": "code",
   "execution_count": 3,
   "metadata": {},
   "outputs": [
    {
     "name": "stdout",
     "output_type": "stream",
     "text": [
      "Event(road_user_id=1, road_user_type='car', hostname='Testvideo', occurrence=datetime.datetime(2020, 1, 1, 0, 0, 1, 450000), frame_number=30, section_id=SectionId(id='NE'), event_coordinate=ImageCoordinate(x=249.73931884765625, y=159.7225799560547), event_type=<EventType.SECTION_ENTER: 'section-enter'>, direction_vector=DirectionVector2D(x1=6.671539306640625, x2=1.6041259765625), video_name='Testvideo_Cars-Cyclist_FR20_2020-01-01_00-00-00.otdet')\n",
      "Event(road_user_id=3, road_user_type='person', hostname='Testvideo', occurrence=datetime.datetime(2020, 1, 1, 0, 0, 0, 500000), frame_number=11, section_id=SectionId(id='NE'), event_coordinate=ImageCoordinate(x=166.88754272460938, y=178.44586181640625), event_type=<EventType.SECTION_ENTER: 'section-enter'>, direction_vector=DirectionVector2D(x1=3.42413330078125, x2=7.049774169921875), video_name='Testvideo_Cars-Cyclist_FR20_2020-01-01_00-00-00.otdet')\n",
      "Event(road_user_id=3, road_user_type='person', hostname='Testvideo', occurrence=datetime.datetime(2020, 1, 1, 0, 0, 0, 550000), frame_number=12, section_id=SectionId(id='NE'), event_coordinate=ImageCoordinate(x=168.2220458984375, y=176.13104248046875), event_type=<EventType.SECTION_ENTER: 'section-enter'>, direction_vector=DirectionVector2D(x1=1.334503173828125, x2=-2.3148193359375), video_name='Testvideo_Cars-Cyclist_FR20_2020-01-01_00-00-00.otdet')\n",
      "Event(road_user_id=3, road_user_type='person', hostname='Testvideo', occurrence=datetime.datetime(2020, 1, 1, 0, 0, 0, 600000), frame_number=13, section_id=SectionId(id='NE'), event_coordinate=ImageCoordinate(x=171.31564331054688, y=180.4241485595703), event_type=<EventType.SECTION_ENTER: 'section-enter'>, direction_vector=DirectionVector2D(x1=3.093597412109375, x2=4.2931060791015625), video_name='Testvideo_Cars-Cyclist_FR20_2020-01-01_00-00-00.otdet')\n",
      "Event(road_user_id=7, road_user_type='bicycle', hostname='Testvideo', occurrence=datetime.datetime(2020, 1, 1, 0, 0, 0, 200000), frame_number=5, section_id=SectionId(id='NE'), event_coordinate=ImageCoordinate(x=155.7700653076172, y=181.4638671875), event_type=<EventType.SECTION_ENTER: 'section-enter'>, direction_vector=DirectionVector2D(x1=1.3126220703125, x2=2.099761962890625), video_name='Testvideo_Cars-Cyclist_FR20_2020-01-01_00-00-00.otdet')\n",
      "Event(road_user_id=7, road_user_type='bicycle', hostname='Testvideo', occurrence=datetime.datetime(2020, 1, 1, 0, 0, 0, 300000), frame_number=7, section_id=SectionId(id='NE'), event_coordinate=ImageCoordinate(x=158.10997009277344, y=174.79156494140625), event_type=<EventType.SECTION_ENTER: 'section-enter'>, direction_vector=DirectionVector2D(x1=-0.3597869873046875, x2=-7.654144287109375), video_name='Testvideo_Cars-Cyclist_FR20_2020-01-01_00-00-00.otdet')\n",
      "Event(road_user_id=7, road_user_type='bicycle', hostname='Testvideo', occurrence=datetime.datetime(2020, 1, 1, 0, 0, 0, 400000), frame_number=9, section_id=SectionId(id='NE'), event_coordinate=ImageCoordinate(x=162.29397583007812, y=181.42031860351562), event_type=<EventType.SECTION_ENTER: 'section-enter'>, direction_vector=DirectionVector2D(x1=3.5653076171875, x2=2.94305419921875), video_name='Testvideo_Cars-Cyclist_FR20_2020-01-01_00-00-00.otdet')\n"
     ]
    }
   ],
   "source": [
    "from OTAnalytics.plugin_prototypes.template.greetings import EventPrinter\n",
    "\n",
    "printer = EventPrinter()\n",
    "printer.print_all_events(test_events)"
   ]
  },
  {
   "attachments": {},
   "cell_type": "markdown",
   "metadata": {},
   "source": [
    "And now we want to remove the test file ;)"
   ]
  },
  {
   "cell_type": "code",
   "execution_count": 4,
   "metadata": {},
   "outputs": [],
   "source": [
    "event_file.unlink(missing_ok=True)"
   ]
  }
 ],
 "metadata": {
  "kernelspec": {
   "display_name": "venv",
   "language": "python",
   "name": "python3"
  },
  "language_info": {
   "codemirror_mode": {
    "name": "ipython",
    "version": 3
   },
   "file_extension": ".py",
   "mimetype": "text/x-python",
   "name": "python",
   "nbconvert_exporter": "python",
   "pygments_lexer": "ipython3",
   "version": "3.10.11"
  },
  "orig_nbformat": 4
 },
 "nbformat": 4,
 "nbformat_minor": 2
}
