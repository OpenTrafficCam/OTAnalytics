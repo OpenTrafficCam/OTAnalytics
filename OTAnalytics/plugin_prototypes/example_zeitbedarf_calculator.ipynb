{
 "cells": [
  {
   "attachments": {},
   "cell_type": "markdown",
   "metadata": {},
   "source": [
    "# Use the Zeitbedarfswert calculator prototype with OTAnalytics\n",
    "\n",
    "> Note: The base path is set in `.vscode/settings.json` to workspace path. Otherwise Jupyter can't import OTAnalytics."
   ]
  },
  {
   "attachments": {},
   "cell_type": "markdown",
   "metadata": {},
   "source": [
    "## Import the prototype modules\n",
    "\n",
    "Before working with events, you need to import the event_processor to import and convert the events to a shaped data frame."
   ]
  },
  {
   "cell_type": "code",
   "execution_count": null,
   "metadata": {},
   "outputs": [],
   "source": [
    "# Import libraries and modules\n",
    "# OTAnalytics modules\n",
    "from OTAnalytics.plugin_prototypes.event_parser.event_parser import EventParser\n",
    "from OTAnalytics.plugin_prototypes.zeitbedarf_calculator.zeitbedarf_calculator import (\n",
    "    ZeitbedarfsCalculator,\n",
    ")\n",
    "\n",
    "%load_ext autoreload\n",
    "%autoreload 2"
   ]
  },
  {
   "attachments": {},
   "cell_type": "markdown",
   "metadata": {},
   "source": [
    "## Set config variables\n",
    "\n",
    "In the current version, configs for prototypes are stored in dictionaries within the Jupyter notebook. In a future version, the will likely be stored in a config file.\n",
    "\n",
    "The path to the eventlists can be a path to a single event list or a folder (all otevent files within this folder will be imported).\n",
    "\n",
    "At each section, the counts will be calculated by direction using the flows. Therefore, you have to name the directions (default: \"in\" and \"out\"). \"first_to_last_section\" names the direction in which the given section is intersected first by the flow. \"last_to_first_section\" names the direction in which the given section is intersected last."
   ]
  },
  {
   "cell_type": "code",
   "execution_count": null,
   "metadata": {},
   "outputs": [],
   "source": [
    "# Set env parameters and path\n",
    "CONFIG = {\n",
    "    \"CITY_NAME\": \"Leipzig\",\n",
    "    \"INTERSECTION_NAME\": \"Merseburger Straße - Demmeringstraße\",\n",
    "    \"TIME_FORMAT\": \"%d.%m%.%y %H:%M Uhr\",\n",
    "    \"FILTER_CLASS\": [],\n",
    "    \"FILTER_SECTION\": [],\n",
    "    \"EVENTLIST_PATH\": \"<YOUR PATH>\",\n",
    "    \"SECTIONSLIST_PATH\": \"<YOUR PATH>\",\n",
    "    \"FROM_TIME\": \"2022-11-01 06:00:00\",\n",
    "    \"TO_TIME\": \"2022-11-03 22:00:00\",\n",
    "    \"INTERVAL_LENGTH_MIN\": 60,  # in minutes\n",
    "    \"SIGNALPROG_PATH\": \"<YOUR PATH>\",\n",
    "    \"SIGNALPROG_MAPPER_PATH\": \"<YOUR PATH>\",\n",
    "    \"SIGNAL_TIME_GAP\": 3.0,  # time in seconds that is added on the signal events timestamps\n",
    "    \"ZB_CUTOFF\": 5,  # maximum time in seconds from signal changing to red-yellow to sction-enter event to be considered as Zeitbedarfswert\n",
    "    \"FF_TIME_ENTER_SCENE_TO_SECTION\": {  # time in seconds to drive from scene entry to the section in free flow conditions\n",
    "        \"Haltelinie_S8-9\": 3,\n",
    "        \"Haltelinie_S4-5-6\": 3,\n",
    "        \"Haltelinie_S1-2-3\": 2,\n",
    "    },\n",
    "    \"DIRECTION_NAMES\": {\n",
    "        \"first_to_last_section\": \"in\",\n",
    "        \"last_to_first_section\": \"out\",\n",
    "    },\n",
    "}"
   ]
  },
  {
   "attachments": {},
   "cell_type": "markdown",
   "metadata": {},
   "source": [
    "## Import Events\n",
    "\n",
    "First, we need to import the event file(s) and process it to a eventlist."
   ]
  },
  {
   "cell_type": "code",
   "execution_count": null,
   "metadata": {},
   "outputs": [],
   "source": [
    "event_processor = EventParser(CONFIG)\n",
    "events = event_processor.process_events()"
   ]
  },
  {
   "attachments": {},
   "cell_type": "markdown",
   "metadata": {},
   "source": [
    "## Calculate Zeitbedarfe\n",
    "\n",
    "With the prototype of the zeitbedarfscalculator, using signal protocols or events given in the config, the zeitbedarfswerte for the given sections is calculated.\n",
    "\n",
    "For each Haltelinie, a section should be defined and be laying over the geometry of the real Haltelinie.\n",
    "\n",
    "The signal protocols have to be stored in the format defined in the `example_signal_program.csv`.\n",
    "\n",
    "With the `example_signal_program_mapper.json`, the signals are linked to the sections. \n",
    "\n",
    "The Zeitbedarfswerte can be plotted using the `plot_zb` function. "
   ]
  },
  {
   "cell_type": "code",
   "execution_count": null,
   "metadata": {},
   "outputs": [],
   "source": [
    "zb_calculator = ZeitbedarfsCalculator(CONFIG, events)\n",
    "events_zb = zb_calculator.calculate_zbw()\n",
    "zb_calculator.plot_zb(\n",
    "    # x=\"queue_position\",\n",
    "    color=\"time_interval_t\",\n",
    "    # xaxis_title=\"Uhrzeit\",\n",
    "    category_orders={\n",
    "        \"q\": list(events_zb[\"q\"].sort_values().unique()),\n",
    "        \"time_interval_t\": list(events_zb[\"time_interval_t\"].sort_values().unique()),\n",
    "    },\n",
    "    facet_row=\"section_id\",\n",
    ")  # , facet_row=\"section_id\" /"
   ]
  }
 ],
 "metadata": {
  "kernelspec": {
   "display_name": "venv",
   "language": "python",
   "name": "python3"
  },
  "language_info": {
   "codemirror_mode": {
    "name": "ipython",
    "version": 3
   },
   "file_extension": ".py",
   "mimetype": "text/x-python",
   "name": "python",
   "nbconvert_exporter": "python",
   "pygments_lexer": "ipython3",
   "version": "3.10.10"
  },
  "orig_nbformat": 4
 },
 "nbformat": 4,
 "nbformat_minor": 2
}
