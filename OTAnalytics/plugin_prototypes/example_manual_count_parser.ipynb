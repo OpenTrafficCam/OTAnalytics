{
 "cells": [
  {
   "attachments": {},
   "cell_type": "markdown",
   "metadata": {},
   "source": [
    "# Use the manual count parser prototype with OTAnalytics\n",
    "\n",
    "> Note: The base path is set in `.vscode/settings.json` to workspace path. Otherwise Jupyter can't import OTAnalytics."
   ]
  },
  {
   "attachments": {},
   "cell_type": "markdown",
   "metadata": {},
   "source": [
    "## Import the prototype modules\n",
    "\n",
    "Before working with events, you need to import the event_processor to convert the events to a shaped data frame."
   ]
  },
  {
   "cell_type": "code",
   "execution_count": null,
   "metadata": {},
   "outputs": [],
   "source": [
    "# Import libraries and modules\n",
    "# OTAnalytics modules\n",
    "from OTAnalytics.plugin_prototypes.manual_count_parser.manual_count_parser import (\n",
    "    ExcelCountParser,\n",
    ")\n",
    "\n",
    "\n",
    "%load_ext autoreload\n",
    "%autoreload 2"
   ]
  },
  {
   "attachments": {},
   "cell_type": "markdown",
   "metadata": {},
   "source": [
    "## Set config variables\n",
    "\n",
    "In the current version, configs for prototypes are stored in dictionaries within the Jupyter notebook. In a future version, the will likely be stored in a config file.\n",
    "\n",
    "The path to the eventlists can be a path to a single event list or a folder (all otevent files within this folder will be imported).\n",
    "\n",
    "Using the `id_dict`, the class and flow names from the Excel file can be replaced."
   ]
  },
  {
   "cell_type": "code",
   "execution_count": null,
   "metadata": {},
   "outputs": [],
   "source": [
    "# Set env parameters and path\n",
    "CONFIG = {\n",
    "    \"EXCEL_PATH\": \"<YOUR PATH>\",\n",
    "    \"FROM_TIME\": \"2023-03-28 00:00:00\",\n",
    "    \"TO_TIME\": \"2023-03-29 00:00:00\",\n",
    "    \"INTERVAL_LENGTH_MIN\": 15,  # in minutes\n",
    "}\n",
    "\n",
    "id_dict = {\n",
    "    \"id_to_class\": {\n",
    "        100: \"pedestrian\",\n",
    "        200: \"bike\",\n",
    "        300: \"motorbike\",\n",
    "        400: \"car\",\n",
    "        500: \"car_with_trailer\",\n",
    "        600: \"delivery_van\",\n",
    "        700: \"truck\",\n",
    "        800: \"truck_with_trailer\",\n",
    "        900: \"truck_with_semitrailer\",\n",
    "        1000: \"bus\",\n",
    "        1100: \"others\",\n",
    "    },\n",
    "    \"id_flows\": {\n",
    "        10: \"Strom 01\",\n",
    "        20: \"Strom 02\",\n",
    "        30: \"Strom 03\",\n",
    "        40: \"Strom 04\",\n",
    "        50: \"Strom 05\",\n",
    "        60: \"Strom 06\",\n",
    "        70: \"Strom 07\",\n",
    "        80: \"Strom 08\",\n",
    "        90: \"Strom 09\",\n",
    "        100: \"Strom 10\",\n",
    "        110: \"Strom 11\",\n",
    "        120: \"Strom 12\",\n",
    "        130: \"SIDEWALK\",\n",
    "    },\n",
    "}"
   ]
  },
  {
   "attachments": {},
   "cell_type": "markdown",
   "metadata": {},
   "source": [
    "## Import Excel File"
   ]
  },
  {
   "cell_type": "code",
   "execution_count": null,
   "metadata": {},
   "outputs": [],
   "source": [
    "parser = ExcelCountParser(\n",
    "    id_dict=id_dict,\n",
    "    CONFIG=CONFIG,\n",
    ")\n",
    "excel_table = parser.excel_parser()"
   ]
  }
 ],
 "metadata": {
  "kernelspec": {
   "display_name": "venv",
   "language": "python",
   "name": "python3"
  },
  "language_info": {
   "codemirror_mode": {
    "name": "ipython",
    "version": 3
   },
   "file_extension": ".py",
   "mimetype": "text/x-python",
   "name": "python",
   "nbconvert_exporter": "python",
   "pygments_lexer": "ipython3",
   "version": "3.10.10"
  },
  "orig_nbformat": 4
 },
 "nbformat": 4,
 "nbformat_minor": 2
}
