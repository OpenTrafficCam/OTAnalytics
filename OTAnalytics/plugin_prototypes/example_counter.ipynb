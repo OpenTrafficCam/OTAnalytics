{
 "cells": [
  {
   "attachments": {},
   "cell_type": "markdown",
   "metadata": {},
   "source": [
    "# Use the counter prototype with OTAnalytics\n",
    "\n",
    "> Note: The base path is set in `.vscode/settings.json` to workspace path. Otherwise Jupyter can't import OTAnalytics."
   ]
  },
  {
   "attachments": {},
   "cell_type": "markdown",
   "metadata": {},
   "source": [
    "## Import the prototype modules\n",
    "\n",
    "Before working with events, you need to import the event_processor to import and convert the events to a shaped data frame."
   ]
  },
  {
   "cell_type": "code",
   "execution_count": null,
   "metadata": {},
   "outputs": [],
   "source": [
    "# Import libraries and modules\n",
    "# OTAnalytics modules\n",
    "from OTAnalytics.plugin_prototypes.event_parser.event_parser import EventParser\n",
    "from OTAnalytics.plugin_prototypes.counter.counter import Counter\n",
    "\n",
    "%load_ext autoreload\n",
    "%autoreload 2"
   ]
  },
  {
   "attachments": {},
   "cell_type": "markdown",
   "metadata": {},
   "source": [
    "## Set config variables\n",
    "\n",
    "In the current version, confiogs for prototypes are stored in dictionries within the Jupyter notebook. In a future version, the will likely be stored in a config file.\n",
    "\n",
    "The path to the eventlists can be a path to a single event list or a folder (all otevent files within this folder will be imported).\n",
    "\n",
    "At each section, the counts will be calculated by direction using the flows. Therefore, you have to name the directions (default: \"in\" and \"out\"). \"first_to_last_section\" names the direction in which the given section is intersected first by the flow. \"last_to_first_section\" names the direction in which the given section is intersected last."
   ]
  },
  {
   "cell_type": "code",
   "execution_count": null,
   "metadata": {},
   "outputs": [],
   "source": [
    "# Set env parameters and path\n",
    "CONFIG = {\n",
    "    \"TIME_FORMAT\": \"%d.%m%.%y %H:%M Uhr\",\n",
    "    \"FILTER_CLASS\": [],\n",
    "    \"FILTER_SECTION\": [],\n",
    "    \"EVENTLIST_PATH\": \"<YOUR PATH>\",\n",
    "    \"SECTIONSLIST_PATH\": \"<YOUR PATH>\",\n",
    "    \"FROM_TIME\": \"2023-03-28 00:00:00\",\n",
    "    \"TO_TIME\": \"2023-03-29 00:00:00\",\n",
    "    \"INTERVAL_LENGTH_MIN\": 15, # in minutes\n",
    "    \"DIRECTION_NAMES\":{\n",
    "        \"first_to_last_section\": \"in\",\n",
    "        \"last_to_first_section\": \"out\",\n",
    "    }\n",
    "}"
   ]
  },
  {
   "attachments": {},
   "cell_type": "markdown",
   "metadata": {},
   "source": [
    "## Import Events"
   ]
  },
  {
   "cell_type": "code",
   "execution_count": null,
   "metadata": {},
   "outputs": [],
   "source": [
    "event_processor = EventParser(CONFIG)\n",
    "events = event_processor.process_events()"
   ]
  },
  {
   "attachments": {},
   "cell_type": "markdown",
   "metadata": {},
   "source": [
    "## Create Count Table and Plot Counts\n",
    "\n",
    "The classes of road users, sections and directions that should be included in the counting table and counting plot can be filtered. If no filter is provided, all elements will be shown."
   ]
  },
  {
   "cell_type": "code",
   "execution_count": null,
   "metadata": {},
   "outputs": [],
   "source": [
    "counts_processor = Counter(CONFIG, events)\n",
    "\n",
    "filter_sections = [\"B75_Ost\"]\n",
    "filter_direction = [\"in\", \"out\"]\n",
    "filter_classes = [\"car\", \"truck\"]\n",
    "\n",
    "counts_table = counts_processor.create_counting_table(filter_sections, filter_direction, filter_classes)\n",
    "counts_processor.plot_counts()"
   ]
  },
  {
   "attachments": {},
   "cell_type": "markdown",
   "metadata": {},
   "source": [
    "## Define flows"
   ]
  },
  {
   "cell_type": "code",
   "execution_count": null,
   "metadata": {},
   "outputs": [],
   "source": [
    "classes_street = [\n",
    "    \"bicyclist\", \n",
    "    \"bicyclist_with_trailer\", \n",
    "    \"cargobike_driver\",\n",
    "    \"car\", \n",
    "    \"car_with_trailer\", \n",
    "    \"bus\", \n",
    "    \"motorcycle\", \n",
    "    \"delivery_van_with_trailer\", \n",
    "    \"delivery_van\", \n",
    "    \"private_van\", \n",
    "    \"private_van_with_trailer\", \n",
    "    \"truck\", \n",
    "    \"truck_with_trailer\", \n",
    "    \"truck_with_semitrailer\"\n",
    "]\n",
    "\n",
    "classes_ped = [\n",
    "    \"pedestrian\", \n",
    "    \"bicyclist\",\n",
    "    \"bicyclist_with_trailer\", \n",
    "    \"cargobike_driver\"\n",
    "]\n",
    "\n",
    "flow_names = {\n",
    "    \"Strom 01\": {\n",
    "        \"classes\": classes_street,\n",
    "        \"from\": \"B75_West\",\n",
    "        \"to\": \"Kroegersweg\"    \n",
    "    },\n",
    "    \"Strom 02\": {\n",
    "        \"classes\": classes_street,\n",
    "        \"from\": \"B75_West\",\n",
    "        \"to\": \"B75_Ost\"    \n",
    "    },\n",
    "    \"Strom 03\": {\n",
    "        \"classes\": classes_street,\n",
    "        \"from\": \"B75_West\",\n",
    "        \"to\": \"Rothenmoor\"    \n",
    "    },\n",
    "    \"Strom 04\": {\n",
    "        \"classes\": classes_street,\n",
    "        \"from\": \"Rothenmoor\",\n",
    "        \"to\": \"B75_West\"    \n",
    "    },\n",
    "    \"Strom 05\": {\n",
    "        \"classes\": classes_street,\n",
    "        \"from\": \"Rothenmoor\",\n",
    "        \"to\": \"Kroegersweg\"    \n",
    "    },\n",
    "    \"Strom 06\": {\n",
    "        \"classes\": classes_street,\n",
    "        \"from\": \"Rothenmoor\",\n",
    "        \"to\": \"B75_Ost\"    \n",
    "    },\n",
    "    \"Strom 07\": {\n",
    "        \"classes\": classes_street,\n",
    "        \"from\": \"B75_Ost\",\n",
    "        \"to\": \"Rothenmoor\"    \n",
    "    },\n",
    "    \"Strom 08\": {\n",
    "        \"classes\": classes_street,\n",
    "        \"from\": \"B75_Ost\",\n",
    "        \"to\": \"B75_West\"    \n",
    "    },\n",
    "    \"Strom 09\": {\n",
    "        \"classes\": classes_street,\n",
    "        \"from\": \"B75_Ost\",\n",
    "        \"to\": \"Kroegersweg\"    \n",
    "    },\n",
    "    \"Strom 10\": {\n",
    "        \"classes\": classes_street,\n",
    "        \"from\": \"Kroegersweg\",\n",
    "        \"to\": \"B75_Ost\"    \n",
    "    },\n",
    "    \"Strom 11\": {\n",
    "        \"classes\": classes_street,\n",
    "        \"from\": \"Rothenmoor\",\n",
    "        \"to\": \"Rothenmoor\"    \n",
    "    },\n",
    "    \"Strom 12\": {\n",
    "        \"classes\": classes_street,\n",
    "        \"from\": \"Kroegersweg\",\n",
    "        \"to\": \"B75_West\"    \n",
    "    },\n",
    "    \"Strom Q 1/3 S\": {\n",
    "        \"classes\": classes_ped,\n",
    "        \"from\": \"Kroegersweg\",\n",
    "        \"to\": \"Rothenmoor\"    \n",
    "    },\n",
    "    \"Strom Q 1/3 N\": {\n",
    "        \"classes\": classes_ped,\n",
    "        \"from\": \"Rothenmoor\",\n",
    "        \"to\": \"Kroegersweg\"    \n",
    "    },\n",
    "    \"Strom Q 2 O\": {\n",
    "        \"classes\": classes_ped,\n",
    "        \"from\": \"B75_West_PED_BIKE\",\n",
    "        \"to\": \"B75_Ost_PED_BIKE\"    \n",
    "    },\n",
    "    \"Strom Q 2 W\": {\n",
    "        \"classes\": classes_ped,\n",
    "        \"from\": \"B75_Ost_PED_BIKE\",\n",
    "        \"to\": \"B75_West_PED_BIKE\"    \n",
    "    }\n",
    "}\n",
    "\n",
    "mode_mapper = {\n",
    "    \"pedestrian\": \"Fußgänger\",\n",
    "    \"bicyclist\": \"Radfahrer\", \n",
    "    \"bicyclist_with_trailer\": \"Radfahrer\", \n",
    "    \"cargobike_driver\": \"Radfahrer\",\n",
    "    \"car\": \"Pkw\", \n",
    "    \"car_with_trailer\": \"Pkw mit Anhänger\", \n",
    "    \"bus\": \"Bus\", \n",
    "    \"motorcycle\": \"Motorrad\", \n",
    "    \"delivery_van\": \"Lieferwagen bis 3,5t\", \n",
    "    \"delivery_van_with_trailer\": \"Lieferwagen bis 3,5t\", \n",
    "    \"private_van\": \"Pkw\", \n",
    "    \"private_van_with_trailer\": \"Pkw mit Anhänger\", \n",
    "    \"truck\": \"Lkw\", \n",
    "    \"truck_with_trailer\": \"Lkw mit Anhänger\", \n",
    "    \"truck_with_semitrailer\": \"Sattelkraftfahrzeuge (Lastzüge)\"\n",
    "}"
   ]
  },
  {
   "attachments": {},
   "cell_type": "markdown",
   "metadata": {},
   "source": [
    "## Create Flow Table"
   ]
  },
  {
   "cell_type": "code",
   "execution_count": null,
   "metadata": {},
   "outputs": [],
   "source": [
    "flow_processor = Counter(CONFIG, events)\n",
    "\n",
    "filter_sections = [\"B75_Ost\", \"B75_West\"]\n",
    "filter_classes = [\"car\", \"truck\"]\n",
    "\n",
    "flows = flow_processor.get_flows(filter_sections, filter_classes)\n",
    "flow_table = flow_processor.create_flow_table(filter_sections, filter_classes)"
   ]
  },
  {
   "attachments": {},
   "cell_type": "markdown",
   "metadata": {},
   "source": [
    "## Convert Flow Table"
   ]
  },
  {
   "cell_type": "code",
   "execution_count": null,
   "metadata": {},
   "outputs": [],
   "source": [
    "flows_export = flow_processor.convert_flow_table(flows, flow_names, mode_mapper)\n",
    "flow_table_export = flow_processor.convert_flow_table(flow_table, flow_names, mode_mapper, aggregated=True)"
   ]
  },
  {
   "cell_type": "code",
   "execution_count": null,
   "metadata": {},
   "outputs": [],
   "source": [
    "flow_processor.plot_flows(flow_table_export)"
   ]
  },
  {
   "attachments": {},
   "cell_type": "markdown",
   "metadata": {},
   "source": [
    "## Export Flow tables"
   ]
  },
  {
   "cell_type": "code",
   "execution_count": null,
   "metadata": {},
   "outputs": [],
   "source": [
    "flows_export.to_csv(CONFIG[\"EVENTLIST_PATH\"] + \"/results.csv\", index=False)\n",
    "flow_table_export.to_csv(CONFIG[\"EVENTLIST_PATH\"] + \"/results_agg_15min.csv\", index=False)"
   ]
  }
 ],
 "metadata": {
  "kernelspec": {
   "display_name": "venv",
   "language": "python",
   "name": "python3"
  },
  "language_info": {
   "codemirror_mode": {
    "name": "ipython",
    "version": 3
   },
   "file_extension": ".py",
   "mimetype": "text/x-python",
   "name": "python",
   "nbconvert_exporter": "python",
   "pygments_lexer": "ipython3",
   "version": "3.10.10"
  },
  "orig_nbformat": 4
 },
 "nbformat": 4,
 "nbformat_minor": 2
}
