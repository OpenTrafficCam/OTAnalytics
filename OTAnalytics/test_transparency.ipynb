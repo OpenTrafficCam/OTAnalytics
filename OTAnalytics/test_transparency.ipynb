{
 "cells": [
  {
   "cell_type": "code",
   "execution_count": 1,
   "metadata": {},
   "outputs": [],
   "source": [
    "import tkinter as tk\n",
    "from PIL import Image, ImageTk\n",
    "import numpy as np\n",
    "from PIL import Image\n",
    "import cv2\n",
    "import numpy as np\n",
    "\n",
    "\n",
    "window = tk.Tk()\n",
    "window.title('image')\n",
    "canvas = tk.Canvas(window, width = 800, height = 800)\n",
    "canvas.pack()\n",
    "\n",
    "\n",
    "test1 = np.zeros([100,100,4],dtype=np.uint8)\n",
    "\n",
    "image1 = cv2.line(test1, (10,10), (50,50), (0,0,0,255), 3)\n",
    "\n",
    "image2 = cv2.line(test1, (50,50), (150,150), (125,125,125,255), 3)\n",
    "\n",
    "image1 = Image.fromarray(image1) #convert numpy array to image\n",
    "image2 = Image.fromarray(image2)\n",
    "\n",
    "im_photo1 = ImageTk.PhotoImage(image1)\n",
    "im_photo2 = ImageTk.PhotoImage(image2)\n",
    "\n",
    "canvas.create_image(0,0, anchor=tk.NW, image=im_photo1)\n",
    "canvas.create_image(0,0, anchor=tk.NW, image=im_photo2)\n",
    "\n",
    "window.mainloop()\n"
   ]
  },
  {
   "cell_type": "code",
   "execution_count": null,
   "metadata": {},
   "outputs": [],
   "source": []
  }
 ],
 "metadata": {
  "interpreter": {
   "hash": "f9804e135b4006a9d975e53a25cd978b21a539e2d38c105a785a154455b5ef67"
  },
  "kernelspec": {
   "display_name": "Python 3.9.0 ('venv': venv)",
   "language": "python",
   "name": "python3"
  },
  "language_info": {
   "codemirror_mode": {
    "name": "ipython",
    "version": 3
   },
   "file_extension": ".py",
   "mimetype": "text/x-python",
   "name": "python",
   "nbconvert_exporter": "python",
   "pygments_lexer": "ipython3",
   "version": "3.9.0"
  },
  "orig_nbformat": 4
 },
 "nbformat": 4,
 "nbformat_minor": 2
}
